{
 "cells": [
  {
   "cell_type": "code",
   "execution_count": 1,
   "metadata": {},
   "outputs": [],
   "source": [
    "from transformers import AutoModelForCausalLM, AutoTokenizer\n",
    "from transformers.generation import GenerationConfig\n",
    "import warnings\n",
    "warnings.filterwarnings(\"ignore\")\n",
    "import textwrap"
   ]
  },
  {
   "cell_type": "code",
   "execution_count": null,
   "metadata": {},
   "outputs": [],
   "source": [
    "# use auto mode, automatically select precision based on the device.\n",
    "#model = AutoModelForCausalLM.from_pretrained(\"Qwen/Qwen-1_8B-Chat\", device_map=\"auto\", trust_remote_code=True, fp16=True).eval()"
   ]
  },
  {
   "cell_type": "code",
   "execution_count": 3,
   "metadata": {},
   "outputs": [
    {
     "name": "stderr",
     "output_type": "stream",
     "text": [
      "Try importing flash-attention for faster inference...\n",
      "Warning: import flash_attn rms_norm fail, please install FlashAttention layer_norm to get higher efficiency https://github.com/Dao-AILab/flash-attention/tree/main/csrc/layer_norm\n"
     ]
    }
   ],
   "source": [
    "# Note: The default behavior now has injection attack prevention off.\n",
    "tokenizer = AutoTokenizer.from_pretrained(\"Qwen/Qwen-1_8B-Chat\", trust_remote_code=True)\n",
    "\n",
    "model = AutoModelForCausalLM.from_pretrained(\n",
    "    \"Qwen/Qwen-1_8B-Chat-Int4\", #\"Qwen/Qwen-7B-Chat-Int4\",\n",
    "    device_map=\"auto\",\n",
    "    trust_remote_code=True\n",
    ").eval()\n"
   ]
  },
  {
   "cell_type": "code",
   "execution_count": 4,
   "metadata": {},
   "outputs": [
    {
     "name": "stdout",
     "output_type": "stream",
     "text": [
      "Model size: 1.75 GB\n"
     ]
    }
   ],
   "source": [
    "model_size = model.get_memory_footprint()\n",
    "model_size = model_size / (1024*1024*1024)\n",
    "# Print model size\n",
    "print(f\"Model size: {model_size:.2f} GB\")"
   ]
  },
  {
   "cell_type": "code",
   "execution_count": 5,
   "metadata": {},
   "outputs": [
    {
     "name": "stdout",
     "output_type": "stream",
     "text": [
      "Hello! How can I help you today? Is there something you would like to talk about\n",
      "or ask me a question? I'm here to assist with any information or guidance you\n",
      "may need. Just let me know and I'll do my best to help.\n"
     ]
    }
   ],
   "source": [
    "response, history = model.chat(tokenizer, \"Hi\", history=None)\n",
    "print(textwrap.fill(response, width=80))"
   ]
  },
  {
   "cell_type": "code",
   "execution_count": 6,
   "metadata": {},
   "outputs": [
    {
     "data": {
      "text/plain": [
       "[('Hi',\n",
       "  \"Hello! How can I help you today? Is there something you would like to talk about or ask me a question? I'm here to assist with any information or guidance you may need. Just let me know and I'll do my best to help.\")]"
      ]
     },
     "execution_count": 6,
     "metadata": {},
     "output_type": "execute_result"
    }
   ],
   "source": [
    "history"
   ]
  },
  {
   "cell_type": "code",
   "execution_count": 7,
   "metadata": {},
   "outputs": [
    {
     "name": "stdout",
     "output_type": "stream",
     "text": [
      "I'm sorry, but as an AI language model, I don't have access to real-time weather\n",
      "information. However, you can easily check the current weather conditions in\n",
      "your area by searching for it online or using a weather app on your phone or\n",
      "computer. You can also find weather forecasts and reports by visiting websites\n",
      "such as Weather.com or AccuWeather.\n"
     ]
    }
   ],
   "source": [
    "response, history = model.chat(tokenizer, \"How is the weather today?\", history=history)\n",
    "print(textwrap.fill(response, width=80))"
   ]
  },
  {
   "cell_type": "code",
   "execution_count": 8,
   "metadata": {},
   "outputs": [
    {
     "data": {
      "text/plain": [
       "[('Hi',\n",
       "  \"Hello! How can I help you today? Is there something you would like to talk about or ask me a question? I'm here to assist with any information or guidance you may need. Just let me know and I'll do my best to help.\"),\n",
       " ('How is the weather today?',\n",
       "  \"I'm sorry, but as an AI language model, I don't have access to real-time weather information. However, you can easily check the current weather conditions in your area by searching for it online or using a weather app on your phone or computer. You can also find weather forecasts and reports by visiting websites such as Weather.com or AccuWeather.\")]"
      ]
     },
     "execution_count": 8,
     "metadata": {},
     "output_type": "execute_result"
    }
   ],
   "source": [
    "history"
   ]
  },
  {
   "cell_type": "code",
   "execution_count": 9,
   "metadata": {},
   "outputs": [
    {
     "name": "stdout",
     "output_type": "stream",
     "text": [
      "The capital of Pakistan is Islamabad. It is located on the northern coast of\n",
      "Pakistan, near the Arabian Sea.\n"
     ]
    }
   ],
   "source": [
    "response, history = model.chat(tokenizer, \"What is the capital of Pakistan?\", history=None)\n",
    "print(textwrap.fill(response, width=80))"
   ]
  },
  {
   "cell_type": "code",
   "execution_count": 10,
   "metadata": {},
   "outputs": [
    {
     "data": {
      "text/plain": [
       "[('What is the capital of Pakistan?',\n",
       "  'The capital of Pakistan is Islamabad. It is located on the northern coast of Pakistan, near the Arabian Sea.')]"
      ]
     },
     "execution_count": 10,
     "metadata": {},
     "output_type": "execute_result"
    }
   ],
   "source": [
    "history"
   ]
  },
  {
   "cell_type": "code",
   "execution_count": 11,
   "metadata": {},
   "outputs": [],
   "source": [
    "response, history = model.chat(tokenizer, \"Can you tell us more about the capital city?\", history=None)"
   ]
  },
  {
   "cell_type": "code",
   "execution_count": 12,
   "metadata": {},
   "outputs": [
    {
     "name": "stdout",
     "output_type": "stream",
     "text": [
      "I'm sorry, but I'm not sure which capital city you're referring to. Can you\n",
      "please provide me with more information or context so that I can assist you\n",
      "better?\n"
     ]
    },
    {
     "data": {
      "text/plain": [
       "[('Can you tell us more about the capital city?',\n",
       "  \"I'm sorry, but I'm not sure which capital city you're referring to. Can you please provide me with more information or context so that I can assist you better?\")]"
      ]
     },
     "execution_count": 12,
     "metadata": {},
     "output_type": "execute_result"
    }
   ],
   "source": [
    "print(textwrap.fill(response, width=80))\n",
    "history"
   ]
  },
  {
   "cell_type": "markdown",
   "metadata": {},
   "source": [
    "Multiple Tasks"
   ]
  },
  {
   "cell_type": "code",
   "execution_count": 14,
   "metadata": {},
   "outputs": [
    {
     "name": "stdout",
     "output_type": "stream",
     "text": [
      "```  SUMMARY: Bumblebee received a wrong order and wants an exchange of the\n",
      "wrong figure.  ENTITIES:  - Amazon  - German online store  - Bumblebee\n",
      "(sentiment analysis not available in this text)   法语：Un pourpr纨te surprise,\n",
      "Bumblebee a eu l'erreur de commande et souhaite un changement de trésor.   ```\n"
     ]
    }
   ],
   "source": [
    "text = f\"\"\"Dear Amazon, last week I ordered an Optimus Prime action figure from your online store in Germany. \\\n",
    "Unfortunately, when I opened the package, I discovered to my horror that I had been sent an action \\ \n",
    "figure of Megatron instead! As a lifelong enemy of the Decepticons, I hope you can understand my dilemma. \\ \n",
    "To resolve the issue, I demand an exchange of Megatron for the Optimus Prime figure I ordered. \\\n",
    "Enclosed are copies of my records concerning this purchase. I expect to hear from you soon. \\\n",
    "Sincerely, Bumblebee.\"\"\"\n",
    "\n",
    "prompt = f\"\"\"\n",
    "Perform the following actions: \n",
    "1 - Summarize the following text delimited by triple backticks.\n",
    "2 - Identify the entities in the text delimited by triple backticks\n",
    "3 - Identify the sentiment of the text\n",
    "4 - Translate the summary into French.\n",
    "\n",
    "\n",
    "Separate your answers with line breaks.\n",
    "\n",
    "Text:\n",
    "```{text}```\n",
    "\"\"\"\n",
    "response, history = model.chat(tokenizer, prompt, history=None)\n",
    "print(textwrap.fill(response, width=80))"
   ]
  },
  {
   "cell_type": "markdown",
   "metadata": {},
   "source": [
    "Sequencing Instructions - Example 1"
   ]
  },
  {
   "cell_type": "code",
   "execution_count": 15,
   "metadata": {},
   "outputs": [
    {
     "name": "stdout",
     "output_type": "stream",
     "text": [
      "Step 1 - Get water boiling Step 2 - Grab a cup and put a tea bag in it Step 3 -\n",
      "Let the water sit for a bit so the tea can steep Step 4 - Take out the tea bag\n",
      "and add sugar or milk to taste No steps provided.\n"
     ]
    }
   ],
   "source": [
    "text1 = f\"\"\"\n",
    "Making a cup of tea is easy! First, you need to get some water boiling. While that's happening, \\ \n",
    "grab a cup and put a tea bag in it. Once the water is hot enough, just pour it over the tea bag. \\ \n",
    "Let it sit for a bit so the tea can steep. After a few minutes, take out the tea bag. If you \\ \n",
    "like, you can add some sugar or milk to taste. And that's it! You've got yourself a delicious \\ \n",
    "cup of tea to enjoy.\n",
    "\"\"\"\n",
    "prompt = f\"\"\"\n",
    "You will be provided with text delimited by triple quotes. \n",
    "If it contains a sequence of instructions, \\ \n",
    "re-write those instructions in the following format:\n",
    "\n",
    "Step 1 - ...\n",
    "Step 2 - …\n",
    "…\n",
    "Step N - …\n",
    "\n",
    "If the text does not contain a sequence of instructions, \\ \n",
    "then simply write \\\"No steps provided.\\\"\n",
    "\n",
    "\\\"\\\"\\\"{text1}\\\"\\\"\\\"\n",
    "\"\"\"\n",
    "response, history = model.chat(tokenizer, prompt, history=None)\n",
    "print(textwrap.fill(response, width=80))\n"
   ]
  },
  {
   "cell_type": "markdown",
   "metadata": {},
   "source": [
    "Sequencing Instructions - Example 2"
   ]
  },
  {
   "cell_type": "code",
   "execution_count": 16,
   "metadata": {},
   "outputs": [
    {
     "name": "stdout",
     "output_type": "stream",
     "text": [
      "No steps provided.\n"
     ]
    }
   ],
   "source": [
    "text2 = f\"\"\"\n",
    "The sun is shining brightly today, and the birds are \\\n",
    "singing. It's a beautiful day to go for a \\ \n",
    "walk in the park. The flowers are blooming, and the \\ \n",
    "trees are swaying gently in the breeze. People \\ \n",
    "are out and about, enjoying the lovely weather. \\ \n",
    "Some are having picnics, while others are playing \\ \n",
    "games or simply relaxing on the grass. It's a \\ \n",
    "perfect day to spend time outdoors and appreciate the \\ \n",
    "beauty of nature.\n",
    "\"\"\"\n",
    "prompt = f\"\"\"\n",
    "You will be provided with text delimited by triple quotes. \n",
    "If it contains a sequence of instructions, \\ \n",
    "re-write those instructions in the following format:Step 1 - ...\n",
    "Step 2 - …\n",
    "…\n",
    "Step N - …\n",
    "\n",
    "If the text does not contain a sequence of instructions, \\ \n",
    "then simply write \\\"No steps provided.\\\"\n",
    "\n",
    "\\\"\\\"\\\"{text2}\\\"\\\"\\\"\n",
    "\"\"\"\n",
    "response, history = model.chat(tokenizer, prompt, history=None)\n",
    "print(textwrap.fill(response, width=80))"
   ]
  },
  {
   "cell_type": "markdown",
   "metadata": {},
   "source": [
    "One-shot learning"
   ]
  },
  {
   "cell_type": "code",
   "execution_count": 17,
   "metadata": {},
   "outputs": [
    {
     "name": "stdout",
     "output_type": "stream",
     "text": [
      "Resilience is a quality that helps individuals overcome obstacles and adapt to\n",
      "change. It involves the ability to bounce back from setbacks and persevere\n",
      "through difficult times. Resilience also requires a positive attitude,\n",
      "perseverance, and a willingness to learn from mistakes. Developing resilience\n",
      "takes practice, but it can greatly benefit an individual's personal growth and\n",
      "overall well-being.\n"
     ]
    }
   ],
   "source": [
    "prompt = f\"\"\"\n",
    "Your task is to answer in a consistent style.\n",
    "\n",
    "<child>: Teach me about patience.\n",
    "\n",
    "<grandparent>: The river that carves the deepest valley flows from a modest spring; the \\ \n",
    "grandest symphony originates from a single note; the most intricate tapestry begins with a solitary thread.\n",
    "\n",
    "<child>: Teach me about resilience.\n",
    "\"\"\"\n",
    "response, history = model.chat(tokenizer, prompt, history=None)\n",
    "print(textwrap.fill(response, width=80))"
   ]
  },
  {
   "cell_type": "markdown",
   "metadata": {},
   "source": [
    "Summary - Generic"
   ]
  },
  {
   "cell_type": "code",
   "execution_count": 18,
   "metadata": {},
   "outputs": [
    {
     "name": "stdout",
     "output_type": "stream",
     "text": [
      "The reviewer bought a panda plush toy for their daughter's birthday. It's soft\n",
      "and cute, but small for the price. Expected delivery on time, played with it\n",
      "before giving it to her.\n"
     ]
    }
   ],
   "source": [
    "text = f\"\"\"\n",
    "Got this panda plush toy for my daughter's birthday, who loves it and takes it everywhere. It's soft and \\ \n",
    "super cute, and its face has a friendly look. It's a bit small for what I paid though. I think there \\ \n",
    "might be other options that are bigger for the same price. It arrived a day earlier than expected, \\ \n",
    "so I got to play with it myself before I gave it to her.\n",
    "\"\"\"\n",
    "prompt = f\"\"\"\n",
    "Your task is to generate a short summary of a product \\\n",
    "review from an ecommerce site. \n",
    "\n",
    "Summarize the review below, delimited by triple \n",
    "backticks, in at most 30 words. \n",
    "\n",
    "Review: ```{text}```\n",
    "\"\"\"\n",
    "response, history = model.chat(tokenizer, prompt, history=None)\n",
    "print(textwrap.fill(response, width=80))"
   ]
  },
  {
   "cell_type": "markdown",
   "metadata": {},
   "source": [
    "Summary - Shipping Department"
   ]
  },
  {
   "cell_type": "code",
   "execution_count": 19,
   "metadata": {},
   "outputs": [
    {
     "name": "stdout",
     "output_type": "stream",
     "text": [
      "Panda plush toy delivered on time, loved by daughter; came early despite size,\n",
      "will consider future purchases.\n"
     ]
    }
   ],
   "source": [
    "text = f\"\"\"\n",
    "Got this panda plush toy for my daughter's birthday, who loves it and takes it everywhere. It's soft and \\ \n",
    "super cute, and its face has a friendly look. It's a bit small for what I paid though. I think there \\ \n",
    "might be other options that are bigger for the same price. It arrived a day earlier than expected, \\ \n",
    "so I got to play with it myself before I gave it to her.\n",
    "\"\"\"\n",
    "prompt = f\"\"\"\n",
    "Your task is to generate a short summary of a product review from an ecommerce site to give feedback to the \\\n",
    "Shipping deparmtment. \n",
    "\n",
    "Summarize the review below, delimited by triple backticks, in at most 30 words, and focusing on any aspects \\\n",
    "that mention shipping and delivery of the product. \n",
    "\n",
    "Review: ```{text}```\n",
    "\"\"\"\n",
    "response, history = model.chat(tokenizer, prompt, history=None)\n",
    "print(textwrap.fill(response, width=80))"
   ]
  },
  {
   "cell_type": "markdown",
   "metadata": {},
   "source": [
    "Summary - Pricing Department"
   ]
  },
  {
   "cell_type": "code",
   "execution_count": 20,
   "metadata": {},
   "outputs": [
    {
     "name": "stdout",
     "output_type": "stream",
     "text": [
      "Product is cute and soft, face has friendly look, arrives early, may have larger\n",
      "option. Pricing too high.\n"
     ]
    }
   ],
   "source": [
    "text = f\"\"\"\n",
    "Got this panda plush toy for my daughter's birthday, who loves it and takes it everywhere. It's soft and \\ \n",
    "super cute, and its face has a friendly look. It's a bit small for what I paid though. I think there \\ \n",
    "might be other options that are bigger for the same price. It arrived a day earlier than expected, \\ \n",
    "so I got to play with it myself before I gave it to her.\n",
    "\"\"\"\n",
    "prompt = f\"\"\"\n",
    "Your task is to generate a short summary of a product review from an ecommerce site to give feedback to the \\\n",
    "pricing deparmtment, responsible for determining the price of the product.  \n",
    "\n",
    "Summarize the review below, delimited by triple backticks, in at most 30 words, and focusing on any aspects \\\n",
    "that are relevant to the price and perceived value. \n",
    "\n",
    "Review: ```{text}```\n",
    "\"\"\"\n",
    "response, history = model.chat(tokenizer, prompt, history=None)\n",
    "print(textwrap.fill(response, width=80))"
   ]
  },
  {
   "cell_type": "markdown",
   "metadata": {},
   "source": [
    "Sentiment"
   ]
  },
  {
   "cell_type": "code",
   "execution_count": 21,
   "metadata": {},
   "outputs": [
    {
     "name": "stdout",
     "output_type": "stream",
     "text": [
      "Positive. The reviewer seems satisfied with their purchase, stating that the\n",
      "panda plush toy is soft, cute, and comes in an earlier-than-expected delivery.\n"
     ]
    }
   ],
   "source": [
    "prompt = f\"\"\"\n",
    "What is the sentiment of the following product review, \n",
    "which is delimited with triple backticks?\n",
    "\n",
    "Give your answer as a single word, either \"positive\" \\\n",
    "or \"negative\".\n",
    "\n",
    "Review text: '''{text}'''\n",
    "\"\"\"\n",
    "\n",
    "response, history = model.chat(tokenizer, prompt, history=None)\n",
    "print(textwrap.fill(response, width=80))"
   ]
  },
  {
   "cell_type": "markdown",
   "metadata": {},
   "source": [
    "Emotions in message"
   ]
  },
  {
   "cell_type": "code",
   "execution_count": 22,
   "metadata": {},
   "outputs": [
    {
     "name": "stdout",
     "output_type": "stream",
     "text": [
      "- love - takes - soft - cute - arriving early\n"
     ]
    }
   ],
   "source": [
    "prompt = f\"\"\"\n",
    "Identify a list of emotions that the writer of the \\\n",
    "following review is expressing. Include no more than \\\n",
    "five items in the list. Format your answer as a list of \\\n",
    "lower-case words separated by commas.\n",
    "\n",
    "Review text: '''{text}'''\n",
    "\"\"\"\n",
    "response, history = model.chat(tokenizer, prompt, history=None)\n",
    "print(textwrap.fill(response, width=80))"
   ]
  },
  {
   "cell_type": "code",
   "execution_count": 23,
   "metadata": {},
   "outputs": [
    {
     "name": "stdout",
     "output_type": "stream",
     "text": [
      "No.\n"
     ]
    }
   ],
   "source": [
    "prompt = f\"\"\"\n",
    "Is the writer of the following review expressing anger?\\\n",
    "The review is delimited with triple backticks. \\\n",
    "Give your answer as either yes or no.\n",
    "\n",
    "Review text: '''{text}'''\n",
    "\"\"\"\n",
    "\n",
    "response, history = model.chat(tokenizer, prompt, history=None)\n",
    "print(textwrap.fill(response, width=80))"
   ]
  },
  {
   "cell_type": "code",
   "execution_count": 24,
   "metadata": {},
   "outputs": [
    {
     "name": "stdout",
     "output_type": "stream",
     "text": [
      "Yes, arriving early can sometimes be seen as an advantage or a positive\n",
      "experience. However, it is still possible to express anger if the delay caused\n",
      "inconvenience or frustration. In this case, the reviewer is happy to have\n",
      "received their item sooner than expected and mentions that they had time to play\n",
      "with it before giving it to their daughter. Overall, while it may not be an\n",
      "ideal situation for everyone, it is important to consider the context and\n",
      "circumstances in which the delay occurred when assessing whether it was positive\n",
      "or negative.\n"
     ]
    }
   ],
   "source": [
    "response, history = model.chat(tokenizer, \"Don't you think that arriving earlier than expected is a good thing and shouldn't make people angry \\\n",
    "                               about it?\", history=history)\n",
    "print(textwrap.fill(response, width=80))\n"
   ]
  },
  {
   "cell_type": "markdown",
   "metadata": {},
   "source": [
    "Proofreading"
   ]
  },
  {
   "cell_type": "code",
   "execution_count": 25,
   "metadata": {},
   "outputs": [
    {
     "name": "stdout",
     "output_type": "stream",
     "text": [
      "Here is a corrected version of the review: I got this item for my daughter as a\n",
      "birthday gift because she kept stealing my熊猫 from my room. Yes, adults also like\n",
      "pandas. She takes it wherever she goes and it's very soft and cute. One ear is\n",
      "slightly lower than the other, but I don't think it was designed to be\n",
      "asymmetrical. It's a bit smaller than what I paid for it, but I believe there\n",
      "may be other options available at the same price. The delivery was on time, so I\n",
      "was able to play with it myself before giving it to my daughter.\n"
     ]
    }
   ],
   "source": [
    "text = f\"\"\"\n",
    "Got this for my daughter for her birthday cuz she keeps taking mine from my room.  Yes, adults also like pandas too.  She takes \\\n",
    "it everywhere with her, and it's super soft and cute.  One of the ears is a bit lower than the other, and I don't think that was \\\n",
    "designed to be asymmetrical. It's a bit small for what I paid for it though. I think there might be other options that are bigger for \\\n",
    "the same price.  It arrived a day earlier than expected, so I got to play with it myself before I gave it to my daughter.\n",
    "\"\"\"\n",
    "prompt = f\"proofread and correct this review: ```{text}```\"\n",
    "\n",
    "response, history = model.chat(tokenizer, prompt, history=None)\n",
    "print(textwrap.fill(response, width=80))"
   ]
  },
  {
   "cell_type": "code",
   "execution_count": 26,
   "metadata": {},
   "outputs": [],
   "source": [
    "from redlines import Redlines\n",
    "from IPython.display import display, Markdown, Latex, HTML, JSON"
   ]
  },
  {
   "cell_type": "code",
   "execution_count": 27,
   "metadata": {},
   "outputs": [],
   "source": [
    "zephyr_response = \"I purchased this for my daughter as a birthday gift because she keeps stealing mine from my room. Yes, adults can also enjoy plush pandas. She carries it with her everywhere, and it's incredibly soft and adorable. However, one of the ears appears to be lower than the other, and I don't believe this was intentionally designed to be asymmetrical. Although it's a bit smaller than I anticipated for the price, there might be other options of similar quality that are larger. It arrived a day earlier than expected, allowing me to play with it before gifting it to my daughter.\""
   ]
  },
  {
   "cell_type": "code",
   "execution_count": 28,
   "metadata": {},
   "outputs": [
    {
     "data": {
      "text/markdown": [
       "<span style='color:red;font-weight:700;text-decoration:line-through;'>Got </span><span style='color:green;font-weight:700;'>I purchased </span>this for my daughter <span style='color:red;font-weight:700;text-decoration:line-through;'>for her </span><span style='color:green;font-weight:700;'>as a </span>birthday <span style='color:red;font-weight:700;text-decoration:line-through;'>cuz </span><span style='color:green;font-weight:700;'>gift because </span>she keeps <span style='color:red;font-weight:700;text-decoration:line-through;'>taking </span><span style='color:green;font-weight:700;'>stealing </span>mine from my <span style='color:red;font-weight:700;text-decoration:line-through;'>room.  </span><span style='color:green;font-weight:700;'>room. </span>Yes, adults <span style='color:green;font-weight:700;'>can </span>also <span style='color:red;font-weight:700;text-decoration:line-through;'>like pandas too.  </span><span style='color:green;font-weight:700;'>enjoy plush pandas. </span>She <span style='color:red;font-weight:700;text-decoration:line-through;'>takes </span><span style='color:green;font-weight:700;'>carries </span>it <span style='color:red;font-weight:700;text-decoration:line-through;'>everywhere </span>with <span style='color:red;font-weight:700;text-decoration:line-through;'>her, </span><span style='color:green;font-weight:700;'>her everywhere, </span>and it's <span style='color:red;font-weight:700;text-decoration:line-through;'>super </span><span style='color:green;font-weight:700;'>incredibly </span>soft and <span style='color:red;font-weight:700;text-decoration:line-through;'>cute.  One </span><span style='color:green;font-weight:700;'>adorable. However, one </span>of the ears <span style='color:red;font-weight:700;text-decoration:line-through;'>is a bit </span><span style='color:green;font-weight:700;'>appears to be </span>lower than the other, and I don't <span style='color:red;font-weight:700;text-decoration:line-through;'>think that </span><span style='color:green;font-weight:700;'>believe this </span>was <span style='color:green;font-weight:700;'>intentionally </span>designed to be asymmetrical. <span style='color:red;font-weight:700;text-decoration:line-through;'>It's </span><span style='color:green;font-weight:700;'>Although it's </span>a bit <span style='color:red;font-weight:700;text-decoration:line-through;'>small </span><span style='color:green;font-weight:700;'>smaller than I anticipated </span>for <span style='color:red;font-weight:700;text-decoration:line-through;'>what I paid for it though. I think </span><span style='color:green;font-weight:700;'>the price, </span>there might be other options <span style='color:green;font-weight:700;'>of similar quality </span>that are <span style='color:red;font-weight:700;text-decoration:line-through;'>bigger for the same price.  </span><span style='color:green;font-weight:700;'>larger. </span>It arrived a day earlier than expected, <span style='color:red;font-weight:700;text-decoration:line-through;'>so I got </span><span style='color:green;font-weight:700;'>allowing me </span>to play with it <span style='color:red;font-weight:700;text-decoration:line-through;'>myself </span>before <span style='color:red;font-weight:700;text-decoration:line-through;'>I gave </span><span style='color:green;font-weight:700;'>gifting </span>it to my daughter."
      ],
      "text/plain": [
       "<IPython.core.display.Markdown object>"
      ]
     },
     "metadata": {},
     "output_type": "display_data"
    }
   ],
   "source": [
    "diff = Redlines(text,zephyr_response)\n",
    "display(Markdown(diff.output_markdown))"
   ]
  },
  {
   "cell_type": "code",
   "execution_count": 29,
   "metadata": {},
   "outputs": [
    {
     "data": {
      "text/markdown": [
       "<span style='color:red;font-weight:700;text-decoration:line-through;'>Got </span><span style='color:green;font-weight:700;'>Here is a corrected version of the review: </span>\n",
       "\n",
       "<span style='color:green;font-weight:700;'>I got </span>this <span style='color:green;font-weight:700;'>item </span>for my daughter <span style='color:red;font-weight:700;text-decoration:line-through;'>for her </span><span style='color:green;font-weight:700;'>as a </span>birthday <span style='color:red;font-weight:700;text-decoration:line-through;'>cuz </span><span style='color:green;font-weight:700;'>gift because </span>she <span style='color:red;font-weight:700;text-decoration:line-through;'>keeps taking mine </span><span style='color:green;font-weight:700;'>kept stealing my熊猫 </span>from my <span style='color:red;font-weight:700;text-decoration:line-through;'>room.  </span><span style='color:green;font-weight:700;'>room. </span>Yes, adults also like <span style='color:red;font-weight:700;text-decoration:line-through;'>pandas too.  </span><span style='color:green;font-weight:700;'>pandas. </span>She takes it <span style='color:red;font-weight:700;text-decoration:line-through;'>everywhere with her, </span><span style='color:green;font-weight:700;'>wherever she goes </span>and it's <span style='color:red;font-weight:700;text-decoration:line-through;'>super </span><span style='color:green;font-weight:700;'>very </span>soft and <span style='color:red;font-weight:700;text-decoration:line-through;'>cute.  </span><span style='color:green;font-weight:700;'>cute. </span>One <span style='color:red;font-weight:700;text-decoration:line-through;'>of the ears </span><span style='color:green;font-weight:700;'>ear </span>is <span style='color:red;font-weight:700;text-decoration:line-through;'>a bit </span><span style='color:green;font-weight:700;'>slightly </span>lower than the other, <span style='color:red;font-weight:700;text-decoration:line-through;'>and </span><span style='color:green;font-weight:700;'>but </span>I don't think <span style='color:red;font-weight:700;text-decoration:line-through;'>that </span><span style='color:green;font-weight:700;'>it </span>was designed to be asymmetrical. It's a bit <span style='color:red;font-weight:700;text-decoration:line-through;'>small for </span><span style='color:green;font-weight:700;'>smaller than </span>what I paid for <span style='color:red;font-weight:700;text-decoration:line-through;'>it though. </span><span style='color:green;font-weight:700;'>it, but </span>I <span style='color:red;font-weight:700;text-decoration:line-through;'>think </span><span style='color:green;font-weight:700;'>believe </span>there <span style='color:red;font-weight:700;text-decoration:line-through;'>might </span><span style='color:green;font-weight:700;'>may </span>be other options <span style='color:red;font-weight:700;text-decoration:line-through;'>that are bigger for </span><span style='color:green;font-weight:700;'>available at </span>the same <span style='color:red;font-weight:700;text-decoration:line-through;'>price.  It arrived a day earlier than expected, </span><span style='color:green;font-weight:700;'>price. The delivery was on time, </span>so I <span style='color:red;font-weight:700;text-decoration:line-through;'>got </span><span style='color:green;font-weight:700;'>was able </span>to play with it myself before <span style='color:red;font-weight:700;text-decoration:line-through;'>I gave </span><span style='color:green;font-weight:700;'>giving </span>it to my daughter."
      ],
      "text/plain": [
       "<IPython.core.display.Markdown object>"
      ]
     },
     "metadata": {},
     "output_type": "display_data"
    }
   ],
   "source": [
    "diff = Redlines(text,response)\n",
    "display(Markdown(diff.output_markdown))"
   ]
  }
 ],
 "metadata": {
  "kernelspec": {
   "display_name": "Python 3",
   "language": "python",
   "name": "python3"
  },
  "language_info": {
   "codemirror_mode": {
    "name": "ipython",
    "version": 3
   },
   "file_extension": ".py",
   "mimetype": "text/x-python",
   "name": "python",
   "nbconvert_exporter": "python",
   "pygments_lexer": "ipython3",
   "version": "3.10.12"
  }
 },
 "nbformat": 4,
 "nbformat_minor": 2
}
